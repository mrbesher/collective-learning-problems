{
  "cells": [
    {
      "cell_type": "code",
      "execution_count": null,
      "metadata": {
        "id": "yZ_kmArlK84l"
      },
      "outputs": [],
      "source": [
        "%%capture\n",
        "!pip install torchdata==0.4.1"
      ]
    },
    {
      "cell_type": "code",
      "execution_count": null,
      "metadata": {
        "id": "G0_-8nh5Wo0p"
      },
      "outputs": [],
      "source": [
        "from os import path, listdir, makedirs\n",
        "\n",
        "import torch\n",
        "\n",
        "from sklearn.manifold import TSNE\n",
        "from sklearn.decomposition import PCA\n",
        "from sklearn.preprocessing import StandardScaler\n",
        "\n",
        "import matplotlib.pyplot as plt\n",
        "import matplotlib.colors as mcolors\n",
        "\n",
        "from datasets import get_data\n",
        "from models import init_model"
      ]
    },
    {
      "cell_type": "markdown",
      "metadata": {
        "id": "qRcFmL5XFZXx"
      },
      "source": [
        "# Arguments"
      ]
    },
    {
      "cell_type": "code",
      "execution_count": null,
      "metadata": {
        "id": "ACYSicuQY4SM"
      },
      "outputs": [],
      "source": [
        "CHECKPOINTS_DIR = '.'\n",
        "PATHS_DIR = '.'\n",
        "COLORS = ['C0', 'C1', 'C2']\n",
        "NUM_STEPS = 60"
      ]
    },
    {
      "cell_type": "markdown",
      "metadata": {
        "id": "a-P5nUaoFbrl"
      },
      "source": [
        "# Function and Constant Definitions"
      ]
    },
    {
      "cell_type": "code",
      "execution_count": null,
      "metadata": {
        "id": "KurTaBTJXCQt"
      },
      "outputs": [],
      "source": [
        "device = torch.device('cuda' if torch.cuda.is_available() else 'cpu')"
      ]
    },
    {
      "cell_type": "code",
      "execution_count": null,
      "metadata": {
        "id": "mdszffW5WzkI"
      },
      "outputs": [],
      "source": [
        "def get_model_params(model):\n",
        "    params = []\n",
        "    for w in model.parameters():\n",
        "        params.append(torch.flatten(w))\n",
        "\n",
        "    return torch.cat(params)"
      ]
    },
    {
      "cell_type": "code",
      "execution_count": null,
      "metadata": {
        "id": "jzBuHNXDESPn"
      },
      "outputs": [],
      "source": [
        "def load_checkpoint(model, dir, i, device='cpu'):\n",
        "    model.load_state_dict(torch.load(path.join(dir, f'ck-{i}.pt'), map_location=device))\n",
        "    return model"
      ]
    },
    {
      "cell_type": "code",
      "execution_count": null,
      "metadata": {
        "id": "4Jf7YutFG5XN"
      },
      "outputs": [],
      "source": [
        "def plot_save_paths(params, inits, optimizers, paths_dir='paths'):\n",
        "    \"\"\"\n",
        "    Plots and saves all paths using the string representation of\n",
        "    the lists inits and optimizers. Assumes that all paths are of\n",
        "    the same length.\n",
        "    \"\"\"\n",
        "\n",
        "    if params.shape[1] != 2:\n",
        "        raise Exception(f'Got dim={params.shape[1]}. Cannot visualize when dim!=2.')\n",
        "    \n",
        "    makedirs(paths_dir, exist_ok=True)\n",
        "\n",
        "    num_paths = params.shape[0] // (len(inits) * len(optimizers))\n",
        "\n",
        "    for i, init in enumerate(inits):\n",
        "        for j, optimizer in enumerate(optimizers):\n",
        "            current_path = params[(i * len(optimizers) + j)*num_paths : (i * len(optimizers) + j +1)*num_paths]\n",
        "            plt.plot(current_path[0, 0], current_path[0, 1], marker='o', color=COLORS[j]) # Mark init weights\n",
        "            plt.plot(current_path[:, 0], current_path[:, 1], color=COLORS[j], label=f'{optimizer}')\n",
        "\n",
        "        plt.legend()\n",
        "        plt.savefig(path.join(paths_dir, f'seed_{init}.pdf'))\n",
        "        plt.show()"
      ]
    },
    {
      "cell_type": "code",
      "execution_count": null,
      "metadata": {
        "id": "YYJ7N15sZO-9"
      },
      "outputs": [],
      "source": [
        "dataset_names = sorted(listdir(CHECKPOINTS_DIR))"
      ]
    },
    {
      "cell_type": "code",
      "execution_count": null,
      "metadata": {
        "id": "HOVhN_i-XD8r"
      },
      "outputs": [],
      "source": [
        "tsne = TSNE(n_components=2, verbose=0, init='pca', learning_rate='auto', perplexity=10)\n",
        "\n",
        "for dataset_name in dataset_names:\n",
        "    dataset_dir = path.join(CHECKPOINTS_DIR, dataset_name)\n",
        "\n",
        "    _, _ = get_data(dataset_name)\n",
        "    model = init_model(dataset_name)\n",
        "\n",
        "    seeds = sorted(listdir(dataset_dir))\n",
        "\n",
        "    all_params = []\n",
        "\n",
        "    for seed in seeds:\n",
        "        seed_dir = path.join(dataset_dir, seed)\n",
        "        optimizers = sorted(listdir(seed_dir))\n",
        "\n",
        "        for optimizer in optimizers:\n",
        "            optimizer_dir = path.join(seed_dir, optimizer)\n",
        "            # Add all checkpoints in the dir\n",
        "            all_params.extend(get_model_params(load_checkpoint(model, optimizer_dir, i)) for i in range(NUM_STEPS + 1))\n",
        "\n",
        "\n",
        "    # Visualize all paths for the dataset\n",
        "    all_params = torch.stack(all_params).detach()\n",
        "\n",
        "    # Normalize the data\n",
        "    scaler = StandardScaler()\n",
        "    all_params = scaler.fit_transform(all_params)\n",
        "\n",
        "    pca = PCA(n_components=100)\n",
        "\n",
        "    transformed_params = pca.fit_transform(all_params)\n",
        "    print(f'PCA transformation done. Paths are in the shape: {all_params.shape}')\n",
        "\n",
        "    transformed_params = tsne.fit_transform(transformed_params)\n",
        "    print(f'TSNE transformation done. Paths are in the shape: {transformed_params.shape}')\n",
        "\n",
        "    plot_save_paths(transformed_params, seeds, optimizers, paths_dir=path.join(PATHS_DIR, dataset_name))"
      ]
    }
  ],
  "metadata": {
    "colab": {
      "collapsed_sections": [],
      "provenance": []
    },
    "kernelspec": {
      "display_name": "Python 3.10.7 64-bit",
      "language": "python",
      "name": "python3"
    },
    "language_info": {
      "name": "python",
      "version": "3.10.7"
    },
    "vscode": {
      "interpreter": {
        "hash": "e7370f93d1d0cde622a1f8e1c04877d8463912d04d973331ad4851f04de6915a"
      }
    }
  },
  "nbformat": 4,
  "nbformat_minor": 0
}
