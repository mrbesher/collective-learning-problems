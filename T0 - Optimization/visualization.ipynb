{
  "nbformat": 4,
  "nbformat_minor": 0,
  "metadata": {
    "colab": {
      "provenance": [],
      "collapsed_sections": []
    },
    "kernelspec": {
      "name": "python3",
      "display_name": "Python 3"
    },
    "language_info": {
      "name": "python"
    }
  },
  "cells": [
    {
      "cell_type": "code",
      "source": [
        "%%capture\n",
        "!pip install torchdata==0.4.1"
      ],
      "metadata": {
        "id": "yZ_kmArlK84l"
      },
      "execution_count": null,
      "outputs": []
    },
    {
      "cell_type": "code",
      "execution_count": null,
      "metadata": {
        "id": "G0_-8nh5Wo0p"
      },
      "outputs": [],
      "source": [
        "from os import path, listdir, makedirs\n",
        "\n",
        "import torch\n",
        "\n",
        "from sklearn.manifold import TSNE\n",
        "from sklearn.decomposition import PCA\n",
        "\n",
        "import matplotlib.pyplot as plt\n",
        "import matplotlib.colors as mcolors\n",
        "\n",
        "from datasets import get_data\n",
        "from models import init_model"
      ]
    },
    {
      "cell_type": "markdown",
      "source": [
        "# Arguments"
      ],
      "metadata": {
        "id": "qRcFmL5XFZXx"
      }
    },
    {
      "cell_type": "code",
      "source": [
        "CHECKPOINTS_DIR = '.'\n",
        "PATHS_DIR = '.'\n",
        "COLORS = ['C0', 'C1', 'C2']\n",
        "NUM_STEPS = 60"
      ],
      "metadata": {
        "id": "ACYSicuQY4SM"
      },
      "execution_count": null,
      "outputs": []
    },
    {
      "cell_type": "markdown",
      "source": [
        "# Function and Constant Definitions"
      ],
      "metadata": {
        "id": "a-P5nUaoFbrl"
      }
    },
    {
      "cell_type": "code",
      "source": [
        "device = torch.device('cuda' if torch.cuda.is_available() else 'cpu')"
      ],
      "metadata": {
        "id": "KurTaBTJXCQt"
      },
      "execution_count": null,
      "outputs": []
    },
    {
      "cell_type": "code",
      "source": [
        "def get_model_params(model):\n",
        "    params = []\n",
        "    for w in model.parameters():\n",
        "        params.append(torch.flatten(w))\n",
        "\n",
        "    return torch.cat(params)"
      ],
      "metadata": {
        "id": "mdszffW5WzkI"
      },
      "execution_count": null,
      "outputs": []
    },
    {
      "cell_type": "code",
      "source": [
        "def load_checkpoint(model, dir, i, device='cpu'):\n",
        "    model.load_state_dict(torch.load(path.join(dir, f'ck-{i}.pt'), map_location=device))\n",
        "    return model"
      ],
      "metadata": {
        "id": "jzBuHNXDESPn"
      },
      "execution_count": null,
      "outputs": []
    },
    {
      "cell_type": "code",
      "source": [
        "def plot_save_paths(params, inits, optimizers, paths_dir='paths'):\n",
        "    \"\"\"\n",
        "    Plots and saves all paths using the string representation of\n",
        "    the lists inits and optimizers. Assumes that all paths are of\n",
        "    the same length.\n",
        "    \"\"\"\n",
        "\n",
        "    if params.shape[1] != 2:\n",
        "        raise Exception(f'Got dim={params.shape[1]}. Cannot visualize when dim!=2.')\n",
        "    \n",
        "    makedirs(paths_dir, exist_ok=True)\n",
        "\n",
        "    num_paths = params.shape[0] // (len(inits) * len(optimizers))\n",
        "\n",
        "    for i, init in enumerate(inits):\n",
        "        for j, optimizer in enumerate(optimizers):\n",
        "            current_path = params[(i * len(optimizers) + j)*num_paths : (i * len(optimizers) + j +1)*num_paths]\n",
        "            plt.plot(current_path[0, 0], current_path[0, 1], marker='o', color=COLORS[j]) # Mark init weights\n",
        "            plt.plot(current_path[:, 0], current_path[:, 1], color=COLORS[j], label=f'{optimizer}')\n",
        "\n",
        "        plt.legend()\n",
        "        plt.savefig(path.join(paths_dir, f'seed_{init}.pdf'))\n",
        "        plt.show()"
      ],
      "metadata": {
        "id": "4Jf7YutFG5XN"
      },
      "execution_count": null,
      "outputs": []
    },
    {
      "cell_type": "code",
      "source": [
        "dataset_names = sorted(listdir(CHECKPOINTS_DIR))"
      ],
      "metadata": {
        "id": "YYJ7N15sZO-9"
      },
      "execution_count": null,
      "outputs": []
    },
    {
      "cell_type": "code",
      "source": [
        "tsne = TSNE(n_components=2, verbose=0, init='pca', learning_rate='auto', perplexity=10)\n",
        "\n",
        "for dataset_name in dataset_names:\n",
        "    dataset_dir = path.join(CHECKPOINTS_DIR, dataset_name)\n",
        "\n",
        "    _, _ = get_data(dataset_name)\n",
        "    model = init_model(dataset_name)\n",
        "\n",
        "    seeds = sorted(listdir(dataset_dir))\n",
        "\n",
        "    all_params = []\n",
        "\n",
        "    for seed in seeds:\n",
        "        seed_dir = path.join(dataset_dir, seed)\n",
        "        optimizers = sorted(listdir(seed_dir))\n",
        "\n",
        "        for optimizer in optimizers:\n",
        "            optimizer_dir = path.join(seed_dir, optimizer)\n",
        "            # Add all checkpoints in the dir\n",
        "            all_params.extend(get_model_params(load_checkpoint(model, optimizer_dir, i)) for i in range(10 + 1))\n",
        "\n",
        "\n",
        "    # Visualize all paths for the dataset\n",
        "    all_params = torch.stack(all_params)\n",
        "\n",
        "    pca = PCA(n_components=100)\n",
        "    all_params = pca.fit_transform(all_params.detach())\n",
        "    print(f'PCA transformation done. Paths are in the shape: {all_params.shape}')\n",
        "\n",
        "    transformed_params = tsne.fit_transform(all_params)\n",
        "    print(f'TSNE transformation done. Paths are in the shape: {transformed_params.shape}')\n",
        "\n",
        "    plot_save_paths(transformed_params, seeds, optimizers, paths_dir=path.join(PATHS_DIR, dataset_name))"
      ],
      "metadata": {
        "id": "HOVhN_i-XD8r"
      },
      "execution_count": null,
      "outputs": []
    }
  ]
}