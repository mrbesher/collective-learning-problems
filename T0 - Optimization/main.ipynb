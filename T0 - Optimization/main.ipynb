{
  "cells": [
    {
      "cell_type": "code",
      "execution_count": null,
      "metadata": {
        "id": "qmu__tp6FvR_"
      },
      "outputs": [],
      "source": [
        "%%capture\n",
        "!pip install torchdata==0.4.1"
      ]
    },
    {
      "cell_type": "code",
      "execution_count": null,
      "metadata": {
        "id": "XCv1MAy1aj8o"
      },
      "outputs": [],
      "source": [
        "import torch\n",
        "from torch.optim import Adam, SGD\n",
        "import torch.nn.functional as F\n",
        "\n",
        "from train_utils import train_and_checkpoint\n",
        "from models import init_model, dataset_hyperparams\n",
        "from datasets import get_data\n",
        "\n",
        "import matplotlib.pyplot as plt\n",
        "from os import path, makedirs"
      ]
    },
    {
      "cell_type": "code",
      "execution_count": null,
      "metadata": {},
      "outputs": [],
      "source": [
        "NUM_INIT_POINTS = 5"
      ]
    },
    {
      "cell_type": "markdown",
      "metadata": {
        "id": "Mi8n5gxJJT5u"
      },
      "source": [
        "# The Training Pipeline"
      ]
    },
    {
      "cell_type": "code",
      "execution_count": null,
      "metadata": {
        "id": "CQYiRXACLjJT"
      },
      "outputs": [],
      "source": [
        "device = torch.device('cuda' if torch.cuda.is_available() else 'cpu')"
      ]
    },
    {
      "cell_type": "code",
      "execution_count": null,
      "metadata": {
        "id": "oLQODwmkLSNy"
      },
      "outputs": [],
      "source": [
        "def calc_accuracy(y_pred, y):\n",
        "  return torch.sum(torch.max(y_pred, 1)[1] == y) / y.nelement()"
      ]
    },
    {
      "cell_type": "markdown",
      "metadata": {
        "id": "wivim8SgNuCD"
      },
      "source": [
        "## Create a list of optimizer classes"
      ]
    },
    {
      "cell_type": "code",
      "execution_count": null,
      "metadata": {
        "id": "4GOWqF8xNyVK"
      },
      "outputs": [],
      "source": [
        "class SGDMomentum(SGD):\n",
        "    def __init__(self, params, lr, momentum=0.9):\n",
        "        super().__init__(params, lr=lr, momentum=momentum)"
      ]
    },
    {
      "cell_type": "code",
      "execution_count": null,
      "metadata": {
        "id": "78jVHlVTP43K"
      },
      "outputs": [],
      "source": [
        "Optimizers = {'SGD': SGD, 'SGDMomentum': SGDMomentum, 'Adam': Adam}"
      ]
    },
    {
      "cell_type": "markdown",
      "metadata": {
        "id": "_xgFQy3GKPAL"
      },
      "source": [
        "## Config"
      ]
    },
    {
      "cell_type": "code",
      "execution_count": null,
      "metadata": {
        "id": "mj7GKRQQLW_U"
      },
      "outputs": [],
      "source": [
        "root = '.'\n",
        "checkpoints_dir = path.join(root, 'checkpoints')\n",
        "figures_dir = path.join(root, 'figures')"
      ]
    },
    {
      "cell_type": "code",
      "execution_count": null,
      "metadata": {
        "id": "aQlLYsYWNOJp"
      },
      "outputs": [],
      "source": [
        "makedirs(checkpoints_dir, exist_ok=True)\n",
        "makedirs(figures_dir, exist_ok=True)"
      ]
    },
    {
      "cell_type": "code",
      "execution_count": null,
      "metadata": {
        "id": "exrl0FP9Jlpn"
      },
      "outputs": [],
      "source": [
        "seeds = [i + 42 for i in range(NUM_INIT_POINTS)]\n",
        "dataset_names = dataset_hyperparams.keys()"
      ]
    },
    {
      "cell_type": "code",
      "execution_count": null,
      "metadata": {
        "id": "9r8zrMvV7UvR"
      },
      "outputs": [],
      "source": [
        "dataset_names"
      ]
    },
    {
      "cell_type": "markdown",
      "metadata": {
        "id": "xKDwxsqMK9dO"
      },
      "source": [
        "## Train and Plot"
      ]
    },
    {
      "cell_type": "code",
      "execution_count": null,
      "metadata": {
        "colab": {
          "base_uri": "https://localhost:8080/"
        },
        "id": "KqcMtMhOJV_i",
        "outputId": "9d11f689-a65c-493a-908b-3ec758083abb"
      },
      "outputs": [],
      "source": [
        "for dataset_name in dataset_names:\n",
        "    hyperparams = dataset_hyperparams[dataset_name]\n",
        "    for seed in seeds:\n",
        "        for opt_name, Opt in Optimizers:\n",
        "            torch.manual_seed(seed)\n",
        "            train_dataloader, test_dataloader = get_data(dataset_name)\n",
        "            \n",
        "            model = init_model(dataset_name)\n",
        "            model = model.to(device)\n",
        "\n",
        "\n",
        "            optimizer = Opt(model.parameters(), lr=hyperparams['lr'][opt_name])\n",
        "\n",
        "            optimizer_checkpoints_dir = path.join(checkpoints_dir, dataset_name, f'seed_{seed}', opt_name)\n",
        "            makedirs(optimizer_checkpoints_dir, exist_ok=True)\n",
        "            \n",
        "\n",
        "            info = train_and_checkpoint(model, train_dataloader, test_dataloader, optimizer, F.cross_entropy,\n",
        "                                        calc_accuracy, device=device, num_epochs=hyperparams['epochs'], path_to_save=optimizer_checkpoints_dir)\n",
        "\n",
        "            # Add current optimizer results to the plot\n",
        "            plt.figure(1)\n",
        "            plt.plot(info['train_losses'], label=f'{opt_name}')\n",
        "            \n",
        "            plt.figure(2)\n",
        "            time_per_epoch = info['time'] / info['epochs']\n",
        "            time_stamps = [i * time_per_epoch for i in range(info['epochs'] + 1)]\n",
        "            plt.plot(time_stamps, info['train_losses'], label=f'{opt_name}')\n",
        "\n",
        "        # Plot epoch vs. loss, time vs. loss. Figures must contain info on seed and optimizer\n",
        "        plt.figure(1)\n",
        "        plt.xlabel('Epoch')\n",
        "        plt.ylabel('Train Loss')\n",
        "        plt.legend()\n",
        "        figure_filename = path.join(figures_dir, f'{dataset_name}_{seed}_epochloss.pdf')\n",
        "        plt.savefig(figure_filename)\n",
        "\n",
        "        plt.figure(2)\n",
        "        plt.xlabel('Time (s)')\n",
        "        plt.ylabel('Loss')\n",
        "        plt.legend()\n",
        "        \n",
        "        figure_filename = path.join(figures_dir, f'{dataset_name}_{seed}_timeloss.pdf')\n",
        "        plt.savefig(figure_filename)\n",
        "\n",
        "        plt.show()"
      ]
    }
  ],
  "metadata": {
    "accelerator": "GPU",
    "colab": {
      "collapsed_sections": [],
      "provenance": []
    },
    "gpuClass": "standard",
    "kernelspec": {
      "display_name": "Python 3",
      "name": "python3"
    },
    "language_info": {
      "name": "python"
    }
  },
  "nbformat": 4,
  "nbformat_minor": 0
}
